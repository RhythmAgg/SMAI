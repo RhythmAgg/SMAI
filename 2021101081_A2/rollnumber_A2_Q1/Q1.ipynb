{
 "cells": [
  {
   "cell_type": "markdown",
   "metadata": {
    "id": "blv6XBI5GxO9"
   },
   "source": [
    "# SMAI Assignment - 2\n",
    "\n",
    "## Question 1: Naive Bayes and Clustering\n",
    "\n",
    "### Part 1: Naive Bayes\n",
    "\n",
    "[Files](https://drive.google.com/drive/folders/1OUVrOMp2jSSBDJSqvEyXDFTrhiyZnqit?usp=sharing)\n",
    "\n",
    "You will be performing Sentiment Analysis on a product review dataset with reviews from customers and star rating belonging to four classes (1,2,4,5). You can use sklearn for this question. Your tasks are as follows:\n",
    "\n",
    "1.   Clean the text by removing punctations and preprocess them using techniques such as stop word removal, stemming etc. You can explore anything!\n",
    "1.  Create BoW features using the word counts. You can choose the words that form the features such that the performance is optimised. Use the train-test split provided in `train_test_index.pickle` and report any interesting observations based on metrics such as accurarcy, precision, recall and f1 score (You can use Classification report in sklearn).\n",
    "1. Repeat Task 2 with TfIdf features."
   ]
  },
  {
   "cell_type": "code",
   "execution_count": 1,
   "metadata": {},
   "outputs": [
    {
     "name": "stderr",
     "output_type": "stream",
     "text": [
      "[nltk_data] Downloading package stopwords to\n",
      "[nltk_data]     /Users/rhythmaggarwal/nltk_data...\n",
      "[nltk_data]   Package stopwords is already up-to-date!\n",
      "[nltk_data] Downloading package punkt to\n",
      "[nltk_data]     /Users/rhythmaggarwal/nltk_data...\n",
      "[nltk_data]   Package punkt is already up-to-date!\n",
      "[nltk_data] Downloading package averaged_perceptron_tagger to\n",
      "[nltk_data]     /Users/rhythmaggarwal/nltk_data...\n",
      "[nltk_data]   Package averaged_perceptron_tagger is already up-to-\n",
      "[nltk_data]       date!\n",
      "[nltk_data] Downloading package wordnet to\n",
      "[nltk_data]     /Users/rhythmaggarwal/nltk_data...\n",
      "[nltk_data]   Package wordnet is already up-to-date!\n"
     ]
    }
   ],
   "source": [
    "import pickle\n",
    "import numpy as np\n",
    "import pandas as pd\n",
    "import re\n",
    "import nltk\n",
    "nltk.download('stopwords')\n",
    "from nltk.corpus import stopwords\n",
    "from nltk.tokenize import word_tokenize\n",
    "nltk.download('punkt')\n",
    "nltk.download('averaged_perceptron_tagger')\n",
    "nltk.download('wordnet')\n",
    "from nltk.stem import WordNetLemmatizer\n",
    "from nltk.tokenize import word_tokenize\n",
    "import re"
   ]
  },
  {
   "cell_type": "code",
   "execution_count": 2,
   "metadata": {
    "id": "U0nNsliRUjqd"
   },
   "outputs": [],
   "source": [
    "with open('train_test_index.pickle', 'rb') as handle:\n",
    "    train_test_index_dict = pickle.load(handle)"
   ]
  },
  {
   "cell_type": "code",
   "execution_count": 3,
   "metadata": {
    "id": "86GXlinlUz8b"
   },
   "outputs": [
    {
     "data": {
      "text/html": [
       "<div>\n",
       "<style scoped>\n",
       "    .dataframe tbody tr th:only-of-type {\n",
       "        vertical-align: middle;\n",
       "    }\n",
       "\n",
       "    .dataframe tbody tr th {\n",
       "        vertical-align: top;\n",
       "    }\n",
       "\n",
       "    .dataframe thead th {\n",
       "        text-align: right;\n",
       "    }\n",
       "</style>\n",
       "<table border=\"1\" class=\"dataframe\">\n",
       "  <thead>\n",
       "    <tr style=\"text-align: right;\">\n",
       "      <th></th>\n",
       "      <th>text</th>\n",
       "      <th>stars</th>\n",
       "      <th>sentiment</th>\n",
       "    </tr>\n",
       "  </thead>\n",
       "  <tbody>\n",
       "    <tr>\n",
       "      <th>0</th>\n",
       "      <td>Total bill for this horrible service? Over $8G...</td>\n",
       "      <td>1.0</td>\n",
       "      <td>0</td>\n",
       "    </tr>\n",
       "    <tr>\n",
       "      <th>1</th>\n",
       "      <td>Went in for a lunch. Steak sandwich was delici...</td>\n",
       "      <td>5.0</td>\n",
       "      <td>1</td>\n",
       "    </tr>\n",
       "    <tr>\n",
       "      <th>2</th>\n",
       "      <td>This place has gone down hill.  Clearly they h...</td>\n",
       "      <td>1.0</td>\n",
       "      <td>0</td>\n",
       "    </tr>\n",
       "    <tr>\n",
       "      <th>3</th>\n",
       "      <td>Walked in around 4 on a Friday afternoon, we s...</td>\n",
       "      <td>1.0</td>\n",
       "      <td>0</td>\n",
       "    </tr>\n",
       "    <tr>\n",
       "      <th>4</th>\n",
       "      <td>Michael from Red Carpet VIP is amazing ! I rea...</td>\n",
       "      <td>4.0</td>\n",
       "      <td>1</td>\n",
       "    </tr>\n",
       "  </tbody>\n",
       "</table>\n",
       "</div>"
      ],
      "text/plain": [
       "                                                text  stars  sentiment\n",
       "0  Total bill for this horrible service? Over $8G...    1.0          0\n",
       "1  Went in for a lunch. Steak sandwich was delici...    5.0          1\n",
       "2  This place has gone down hill.  Clearly they h...    1.0          0\n",
       "3  Walked in around 4 on a Friday afternoon, we s...    1.0          0\n",
       "4  Michael from Red Carpet VIP is amazing ! I rea...    4.0          1"
      ]
     },
     "execution_count": 3,
     "metadata": {},
     "output_type": "execute_result"
    }
   ],
   "source": [
    "data = pd.read_csv('product_reviews.csv')\n",
    "data.head()"
   ]
  },
  {
   "cell_type": "code",
   "execution_count": 20,
   "metadata": {},
   "outputs": [],
   "source": [
    "remove_words = set(stopwords.words('english'))\n",
    "lemmatizer = WordNetLemmatizer()\n",
    "remove_words.update(['.','?','!',',',\"'\",'\"'])\n",
    "def text_processing(text):\n",
    "    '''\n",
    "    punctuations removed, lemmatization and stop words removed\n",
    "    '''\n",
    "    tokens = word_tokenize(text)\n",
    "    lemmatized_tokens = [lemmatizer.lemmatize(token) for token in tokens if token.lower() not in remove_words]\n",
    "    money_sub_text = re.sub(r'(\\$ \\w+)|([0-9]+ cent)', '<MONEY>', ' '.join(lemmatized_tokens))\n",
    "    num_sub_text = re.sub(r'\\b[0-9]+\\b', '<NUM>', money_sub_text)\n",
    "    return num_sub_text\n",
    "\n",
    "data['text'] = data['text'].apply(text_processing)\n",
    "        "
   ]
  },
  {
   "cell_type": "code",
   "execution_count": 21,
   "metadata": {},
   "outputs": [
    {
     "data": {
      "text/html": [
       "<div>\n",
       "<style scoped>\n",
       "    .dataframe tbody tr th:only-of-type {\n",
       "        vertical-align: middle;\n",
       "    }\n",
       "\n",
       "    .dataframe tbody tr th {\n",
       "        vertical-align: top;\n",
       "    }\n",
       "\n",
       "    .dataframe thead th {\n",
       "        text-align: right;\n",
       "    }\n",
       "</style>\n",
       "<table border=\"1\" class=\"dataframe\">\n",
       "  <thead>\n",
       "    <tr style=\"text-align: right;\">\n",
       "      <th></th>\n",
       "      <th>text</th>\n",
       "      <th>stars</th>\n",
       "      <th>sentiment</th>\n",
       "    </tr>\n",
       "  </thead>\n",
       "  <tbody>\n",
       "    <tr>\n",
       "      <th>0</th>\n",
       "      <td>Total bill horrible service &lt;MONEY&gt; crook actu...</td>\n",
       "      <td>1.0</td>\n",
       "      <td>0</td>\n",
       "    </tr>\n",
       "    <tr>\n",
       "      <th>1</th>\n",
       "      <td>Went lunch Steak sandwich delicious Caesar sal...</td>\n",
       "      <td>5.0</td>\n",
       "      <td>1</td>\n",
       "    </tr>\n",
       "    <tr>\n",
       "      <th>2</th>\n",
       "      <td>place gone hill Clearly cut back staff food qu...</td>\n",
       "      <td>1.0</td>\n",
       "      <td>0</td>\n",
       "    </tr>\n",
       "    <tr>\n",
       "      <th>3</th>\n",
       "      <td>Walked around &lt;NUM&gt; Friday afternoon sat table...</td>\n",
       "      <td>1.0</td>\n",
       "      <td>0</td>\n",
       "    </tr>\n",
       "    <tr>\n",
       "      <th>4</th>\n",
       "      <td>Michael Red Carpet VIP amazing reached needed ...</td>\n",
       "      <td>4.0</td>\n",
       "      <td>1</td>\n",
       "    </tr>\n",
       "  </tbody>\n",
       "</table>\n",
       "</div>"
      ],
      "text/plain": [
       "                                                text  stars  sentiment\n",
       "0  Total bill horrible service <MONEY> crook actu...    1.0          0\n",
       "1  Went lunch Steak sandwich delicious Caesar sal...    5.0          1\n",
       "2  place gone hill Clearly cut back staff food qu...    1.0          0\n",
       "3  Walked around <NUM> Friday afternoon sat table...    1.0          0\n",
       "4  Michael Red Carpet VIP amazing reached needed ...    4.0          1"
      ]
     },
     "execution_count": 21,
     "metadata": {},
     "output_type": "execute_result"
    }
   ],
   "source": [
    "data.head()"
   ]
  },
  {
   "cell_type": "code",
   "execution_count": 22,
   "metadata": {},
   "outputs": [],
   "source": [
    "from sklearn.feature_extraction.text import CountVectorizer, TfidfVectorizer\n",
    "from sklearn.model_selection import train_test_split\n",
    "from sklearn.naive_bayes import MultinomialNB\n",
    "from sklearn.metrics import classification_report, accuracy_score\n",
    "\n",
    "classifier = MultinomialNB()"
   ]
  },
  {
   "cell_type": "code",
   "execution_count": 23,
   "metadata": {},
   "outputs": [],
   "source": [
    "def vectorize_features(type = 1):\n",
    "    if type == 1:\n",
    "        vectorizer = CountVectorizer()\n",
    "    else:\n",
    "        vectorizer = TfidfVectorizer()\n",
    "        \n",
    "    document_term = vectorizer.fit_transform(data['text']).toarray()\n",
    "#     features = np.concatenate((document_term, np.expand_dims(data['stars'].values, 1)), axis = 1)\n",
    "    target = data['stars'].values\n",
    "    return document_term, target"
   ]
  },
  {
   "cell_type": "code",
   "execution_count": 24,
   "metadata": {},
   "outputs": [
    {
     "name": "stdout",
     "output_type": "stream",
     "text": [
      "0.7008750994431185\n"
     ]
    }
   ],
   "source": [
    "features, target = vectorize_features(1)\n",
    "x_train = features[train_test_index_dict['train_index']]\n",
    "x_test = features[train_test_index_dict['test_index']]\n",
    "y_train = target[train_test_index_dict['train_index']]\n",
    "y_test = target[train_test_index_dict['test_index']]\n",
    "\n",
    "# Train the classifier\n",
    "classifier.fit(x_train, y_train)\n",
    "\n",
    "# Predict on the test set\n",
    "y_pred = classifier.predict(x_test)\n",
    "\n",
    "# Print classification report\n",
    "print(accuracy_score(y_test, y_pred))"
   ]
  },
  {
   "cell_type": "code",
   "execution_count": 25,
   "metadata": {},
   "outputs": [
    {
     "name": "stdout",
     "output_type": "stream",
     "text": [
      "0.5904080009091942\n"
     ]
    }
   ],
   "source": [
    "features, target = vectorize_features(2)\n",
    "x_train = features[train_test_index_dict['train_index']]\n",
    "x_test = features[train_test_index_dict['test_index']]\n",
    "y_train = target[train_test_index_dict['train_index']]\n",
    "y_test = target[train_test_index_dict['test_index']]\n",
    "\n",
    "# Train the classifier\n",
    "classifier.fit(x_train, y_train)\n",
    "\n",
    "# Predict on the test set\n",
    "y_pred = classifier.predict(x_test)\n",
    "\n",
    "# Print classification report\n",
    "print(accuracy_score(y_test, y_pred))"
   ]
  },
  {
   "cell_type": "markdown",
   "metadata": {
    "id": "T8GYzpkuUcs6"
   },
   "source": [
    "### Part 2: Clustering\n",
    "\n",
    "You will be performing kmeans clustering on the same product reviews dataset from Part 1. In this question, instead of statistically computing features, you will use the embeddings obtained from a neural sentiment analysis model (huggingface: siebert/sentiment-roberta-large-english).\n",
    "\n",
    "You can use sklearn for this question. Your tasks are as follows:\n",
    "\n",
    "\n",
    "1. Perform kmeans clustering using sklearn. Try various values for number of clusters (k) and plot the elbow curve. For each value of k, plot WCSS (Within-Cluster Sum of Square). WCSS is the sum of the squared distance between each point and the centroid in a cluster.\n",
    "1. Perform task 1 with cluster initialisation methods [k-means++, forgy (\"random\" in sklearn)].\n",
    "1. In this case, since the ground truth labels (star rating) are available we can evaluate the clustering using metrics like purity, nmi and rand score. Implement these metrics from scratch and evaluate the clustering. [Reference](https://nlp.stanford.edu/IR-book/html/htmledition/evaluation-of-clustering-1.html)"
   ]
  },
  {
   "cell_type": "code",
   "execution_count": 4,
   "metadata": {
    "id": "5ddsz-nxGvfE"
   },
   "outputs": [
    {
     "name": "stdout",
     "output_type": "stream",
     "text": [
      "(26661, 1024)\n"
     ]
    }
   ],
   "source": [
    "import gzip\n",
    "import numpy as np\n",
    "\n",
    "f = gzip.GzipFile('roberta_embeds.npy.gz', \"r\")\n",
    "embeds = np.load(f)\n",
    "target = data['stars'].values.astype('int')\n",
    "print(embeds.shape)"
   ]
  },
  {
   "cell_type": "code",
   "execution_count": 86,
   "metadata": {},
   "outputs": [
    {
     "data": {
      "image/png": "[encoded data removed]",
      "text/plain": [
       "<Figure size 800x600 with 1 Axes>"
      ]
     },
     "metadata": {},
     "output_type": "display_data"
    }
   ],
   "source": [
    "from sklearn.cluster import KMeans\n",
    "import matplotlib.pyplot as plt\n",
    "\n",
    "# Calculate Within-Cluster Sum of Squares (WCSS) for different values of k\n",
    "wcss = []\n",
    "for k in range(1, 15):\n",
    "    kmeans = KMeans(init = 'k-means++', n_clusters=k, n_init = 1)\n",
    "    kmeans.fit(embeds)\n",
    "    wcss.append(kmeans.inertia_)\n",
    "\n",
    "# Plot the elbow curve\n",
    "plt.figure(figsize=(8, 6))\n",
    "plt.plot(range(1, 15), wcss, marker='o', linestyle='-', color='b')\n",
    "plt.xlabel('Number of Clusters (k)')\n",
    "plt.ylabel('WCSS (Within-Cluster Sum of Squares)')\n",
    "plt.title('Elbow Curve for K-means Clustering')\n",
    "plt.xticks(np.arange(1, 15, 1))\n",
    "plt.grid(True)\n",
    "plt.show()"
   ]
  },
  {
   "cell_type": "code",
   "execution_count": 87,
   "metadata": {},
   "outputs": [
    {
     "data": {
      "text/plain": [
       "array([0, 1, 2], dtype=int32)"
      ]
     },
     "execution_count": 87,
     "metadata": {},
     "output_type": "execute_result"
    }
   ],
   "source": [
    "elbow_k = 3\n",
    "kmeans = KMeans(init = 'k-means++', n_clusters=elbow_k, n_init = 1)\n",
    "kmeans.fit(embeds)\n",
    "np.unique(kmeans.labels_)"
   ]
  },
  {
   "cell_type": "code",
   "execution_count": 88,
   "metadata": {},
   "outputs": [],
   "source": [
    "clusters = {}\n",
    "for k in range(elbow_k):\n",
    "    clusters[k] = np.where(kmeans.labels_ == k)[0]"
   ]
  },
  {
   "cell_type": "code",
   "execution_count": 89,
   "metadata": {},
   "outputs": [],
   "source": [
    "def purity():\n",
    "    N = len(target)\n",
    "    correct_classification = 0\n",
    "    for cluster in clusters:\n",
    "        star_class = target[clusters[cluster]]\n",
    "        counts = np.bincount(star_class)\n",
    "        correct_classification += np.max(counts)\n",
    "    \n",
    "    return correct_classification / N\n",
    "\n",
    "def nmi():\n",
    "    N = len(target)\n",
    "    tp_fp_tn_fn = N*(N-1) / 2\n",
    "    \n",
    "    class_counts = np.bincount(target)\n",
    "    cluster_counts = np.bincount(kmeans.labels_)\n",
    "    nmi_metric_information = 0\n",
    "    for cluster in clusters:\n",
    "        star_class = target[clusters[cluster]]\n",
    "        counts = np.bincount(star_class)\n",
    "        nmi_metric_cluster = 0\n",
    "        for idx, stars in enumerate(counts):\n",
    "            nmi_metric_cluster += 0.0 if stars == 0 else stars*(np.log2((N*stars)/(class_counts[idx]*np.sum(counts))))\n",
    "        nmi_metric_information += nmi_metric_cluster\n",
    "    \n",
    "    nmi_metric_information /= N\n",
    "    \n",
    "    class_counts_prob = class_counts[class_counts > 0] / N\n",
    "    cluster_counts_prob = cluster_counts[cluster_counts > 0] / N\n",
    "    \n",
    "    entropy_class = -np.sum(class_counts_prob * np.log2(class_counts_prob))\n",
    "    entropy_cluster = -np.sum(cluster_counts_prob * np.log2(cluster_counts_prob))\n",
    "    \n",
    "    return 2*nmi_metric_information / (entropy_class + entropy_cluster)\n",
    "        \n",
    "        \n",
    "def randi():\n",
    "    N = len(target)\n",
    "    tp_fp_tn_fn = N*(N-1) / 2\n",
    "    class_counts = np.bincount(target)\n",
    "    cluster_counts = np.bincount(kmeans.labels_)\n",
    "    tp = 0\n",
    "    tn = 0\n",
    "    cluster_class_counts = []\n",
    "    for cluster in clusters:\n",
    "        star_class = target[clusters[cluster]]\n",
    "        counts = np.bincount(star_class)\n",
    "        cluster_class_counts.append(counts)\n",
    "    \n",
    "    cluster_class_counts = np.array(cluster_class_counts)\n",
    "    \n",
    "    for k in range(cluster_class_counts.shape[0]):\n",
    "        for j in range(cluster_class_counts.shape[1]):\n",
    "            tp += cluster_class_counts[k][j]*(cluster_class_counts[k][j] - 1) / 2\n",
    "            tn += cluster_class_counts[k][j]*(N - class_counts[j]-cluster_counts[k]+cluster_class_counts[k][j])\n",
    "    tn /= 2\n",
    "    \n",
    "    return (tp+tn) / tp_fp_tn_fn\n",
    "        \n",
    "        \n",
    "    \n",
    "    "
   ]
  },
  {
   "cell_type": "code",
   "execution_count": 90,
   "metadata": {},
   "outputs": [
    {
     "name": "stdout",
     "output_type": "stream",
     "text": [
      "0.70683770301189 0.5299522788101332 0.7166146240059509\n"
     ]
    }
   ],
   "source": [
    "print(purity(), nmi(), randi())"
   ]
  },
  {
   "cell_type": "code",
   "execution_count": null,
   "metadata": {},
   "outputs": [],
   "source": []
  }
 ],
 "metadata": {
  "colab": {
   "provenance": []
  },
  "kernelspec": {
   "display_name": "myenv",
   "language": "python",
   "name": "myenv"
  },
  "language_info": {
   "codemirror_mode": {
    "name": "ipython",
    "version": 3
   },
   "file_extension": ".py",
   "mimetype": "text/x-python",
   "name": "python",
   "nbconvert_exporter": "python",
   "pygments_lexer": "ipython3",
   "version": "3.11.5"
  },
  "varInspector": {
   "cols": {
    "lenName": 16,
    "lenType": 16,
    "lenVar": 40
   },
   "kernels_config": {
    "python": {
     "delete_cmd_postfix": "",
     "delete_cmd_prefix": "del ",
     "library": "var_list.py",
     "varRefreshCmd": "print(var_dic_list())"
    },
    "r": {
     "delete_cmd_postfix": ") ",
     "delete_cmd_prefix": "rm(",
     "library": "var_list.r",
     "varRefreshCmd": "cat(var_dic_list()) "
    }
   },
   "types_to_exclude": [
    "module",
    "function",
    "builtin_function_or_method",
    "instance",
    "_Feature"
   ],
   "window_display": false
  }
 },
 "nbformat": 4,
 "nbformat_minor": 1
}
